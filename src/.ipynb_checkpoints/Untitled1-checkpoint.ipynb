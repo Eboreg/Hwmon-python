{
 "cells": [
  {
   "cell_type": "markdown",
   "metadata": {},
   "source": [
    "# Hwmon's Documentation\n",
    "\n",
    "**Authors:** bla6 and Guillermo-C-A\n",
    "\n",
    "**Repository:**\n",
    "\n",
    "## Motivations to create Hwmon \n",
    "\n",
    "Hwmon has been created with the intention of replacing Linux libraries and APIs with which to obtain system information without the need to depend on dependencies outside a standard Linux system, i. e. that nothing needs to be installed. \n",
    "\n",
    "The only requirements for running Hwmon on a system are: \n",
    "\n",
    "- The OS is Linux \n",
    "- Have python 3 \n",
    "\n",
    "Hwmon is also a library developed expressly by and for Python 3 with functions that are easy to understand and operate, which read and synthesize in the same library all the useful information for monitoring a Linux system that can be found in the /ys, /proc and /dev folders. So only the information that the system itself has recorded will be obtained. \n",
    "\n",
    "## Why use Hwmon instead of other bookstores? \n",
    "\n",
    "As already mentioned, Hwmon does not require any dependencies or programs and is a library created with the standard Python 3 libraries. Which is not the case with other bookstores as they are: \n",
    "\n",
    "- Pysensors\n",
    "- lm-sensors\n",
    "- psutil\n",
    "\n",
    "Where you need files and programs to be able to work, so if you're missing some of that, it just doesn't work. They are also heavier solutions in terms of file sizes than Hwmon. \n",
    "\n",
    "## Is it really a viable alternative to lm-sensors? \n",
    "\n",
    "Yes. Hwmon is able to return and print the same information that is obtained when installing and running sensors. \n",
    "\n",
    "![https://github.com/Guillermo-C-A/Hwmon-python/blob/master/rd_data/hwmon%20vs%20lm-sensors.png](attachment:imagen.png)\n",
    "\n",
    "And it even prints the information on the screen in a nice and friendly way so that it is more useful and easy to understand. \n",
    "\n",
    "## What information can I get from Hwmon and where does he get it from? \n",
    "\n",
    "Hwmon is able to extract: \n",
    "\n",
    "- Information from the sensors available on the computer \n",
    "- Processor information \n",
    "- System memory information \n",
    "- Sent and received packet information \n",
    "- USB devices connected to the computer \n",
    "- Disks connected to the computer \n",
    "\n",
    "All this information is extracted respectively from the following sites: \n",
    "\n",
    "- /sys/class/hwmon\n",
    "- /proc/cpuinfo y /proc/stat\n",
    "- /proc/meminfo\n",
    "- /proc/net/dev\n",
    "- /dev/input/by-id\n",
    "- /dev/disk/by-id\n",
    "\n",
    "## How to use and call the bookstore? "
   ]
  },
  {
   "cell_type": "code",
   "execution_count": 1,
   "metadata": {},
   "outputs": [],
   "source": [
    "from hwmon import Hwmon"
   ]
  },
  {
   "cell_type": "markdown",
   "metadata": {},
   "source": [
    "# Sensor information \n",
    "To access the sensor subclass, the following statement will be executed: "
   ]
  },
  {
   "cell_type": "code",
   "execution_count": 3,
   "metadata": {},
   "outputs": [],
   "source": [
    "sensors = Hwmon.HW()"
   ]
  },
  {
   "cell_type": "markdown",
   "metadata": {},
   "source": [
    "Being the functions that interest us in this case: data() and print_data() . Let's see an example of each function: \n",
    "### Print sensors \n",
    "This function will print all the sensor information of the system in a tabular and nice way. "
   ]
  },
  {
   "cell_type": "code",
   "execution_count": 4,
   "metadata": {},
   "outputs": [
    {
     "name": "stdout",
     "output_type": "stream",
     "text": [
      "Ctrl + C to exit the watch mode\n",
      "\n",
      " amdgpu\n",
      "\t vddgfx 0.837 v\n",
      "\t power1 33.248 w\n",
      "\t fan1 1115 RPM\n",
      "\t edge 30.0 C\n",
      " nct6779\n",
      "\t AUXTIN3 -28.0 C\n",
      "\t in3 3.344 v\n",
      "\t fan3 0 RPM\n",
      "\t in7 3.472 v\n",
      "\t AUXTIN0 31.0 C\n",
      "\t in12 1.68 v\n",
      "\t in0 0.488 v\n",
      "\t PCH_CPU_TEMP 0.0 C\n",
      "\t SMBUSMASTER 0 29.0 C\n",
      "\t in4 1.848 v\n",
      "\t fan4 0 RPM\n",
      "\t in8 3.264 v\n",
      "\t AUXTIN1 95.0 C\n",
      "\t in13 0.944 v\n",
      "\t in1 0.0 v\n",
      "\t fan1 0 RPM\n",
      "\t PCH_CHIP_CPU_MAX_TEMP 0.0 C\n",
      "\t in5 0.84 v\n",
      "\t SYSTIN 28.0 C\n",
      "\t in10 0.352 v\n",
      "\t fan5 0 RPM\n",
      "\t in9 0.0 v\n",
      "\t AUXTIN2 23.0 C\n",
      "\t in14 1.848 v\n",
      "\t in2 3.344 v\n",
      "\t fan2 1906 RPM\n",
      "\t PCH_CHIP_TEMP 0.0 C\n",
      "\t in6 0.912 v\n",
      "\t CPUTIN 30.0 C\n",
      "\t in11 1.056 v\n",
      " k10temp\n",
      "\t Tdie 29.125 C\n",
      "\t Tctl 29.125 C\n"
     ]
    }
   ],
   "source": [
    "sensors.print_data()"
   ]
  },
  {
   "cell_type": "markdown",
   "metadata": {},
   "source": [
    "### Get data\n",
    "In case we are interested in getting the information from the sensors instead of printing it on the screen, we will execute the following sentence: "
   ]
  },
  {
   "cell_type": "code",
   "execution_count": 5,
   "metadata": {},
   "outputs": [
    {
     "data": {
      "text/plain": [
       "{'amdgpu': {'vddgfx': '0.837 v',\n",
       "  'power1': '33.154 w',\n",
       "  'fan1': '1115 RPM',\n",
       "  'edge': '30.0 C'},\n",
       " 'nct6779': {'AUXTIN3': '-28.0 C',\n",
       "  'in3': '3.344 v',\n",
       "  'fan3': '0 RPM',\n",
       "  'in7': '3.472 v',\n",
       "  'AUXTIN0': '27.5 C',\n",
       "  'in12': '1.688 v',\n",
       "  'in0': '0.44 v',\n",
       "  'PCH_CPU_TEMP': '0.0 C',\n",
       "  'SMBUSMASTER 0': '29.5 C',\n",
       "  'in4': '1.848 v',\n",
       "  'fan4': '0 RPM',\n",
       "  'in8': '3.264 v',\n",
       "  'AUXTIN1': '94.0 C',\n",
       "  'in13': '0.944 v',\n",
       "  'in1': '0.0 v',\n",
       "  'fan1': '0 RPM',\n",
       "  'PCH_CHIP_CPU_MAX_TEMP': '0.0 C',\n",
       "  'in5': '0.84 v',\n",
       "  'SYSTIN': '29.0 C',\n",
       "  'in10': '0.352 v',\n",
       "  'fan5': '0 RPM',\n",
       "  'in9': '0.0 v',\n",
       "  'AUXTIN2': '23.0 C',\n",
       "  'in14': '1.848 v',\n",
       "  'in2': '3.36 v',\n",
       "  'fan2': '1912 RPM',\n",
       "  'PCH_CHIP_TEMP': '0.0 C',\n",
       "  'in6': '0.976 v',\n",
       "  'CPUTIN': '30.5 C',\n",
       "  'in11': '1.056 v'},\n",
       " 'k10temp': {'Tdie': '29.5 C', 'Tctl': '29.5 C'}}"
      ]
     },
     "execution_count": 5,
     "metadata": {},
     "output_type": "execute_result"
    }
   ],
   "source": [
    "sensors.data()"
   ]
  },
  {
   "cell_type": "markdown",
   "metadata": {},
   "source": [
    "# Processor information\n",
    "To access the processor subclass, the following sentence will be executed "
   ]
  },
  {
   "cell_type": "code",
   "execution_count": 6,
   "metadata": {},
   "outputs": [],
   "source": [
    "cpu = Hwmon.CPU()"
   ]
  },
  {
   "cell_type": "markdown",
   "metadata": {},
   "source": [
    "Being the functions that interest us in this case: data() and print_data(). Let's see an example of each function:\n",
    "### Print information\n",
    "This function will print all the information of the system processor in a tabular and nice way. "
   ]
  },
  {
   "cell_type": "code",
   "execution_count": 7,
   "metadata": {},
   "outputs": [
    {
     "name": "stdout",
     "output_type": "stream",
     "text": [
      "Ctrl + C to exit the watch mode\n",
      "\n",
      " Name AMD Ryzen 5 1400 Quad-Core Processor\n",
      " CPU_usage 23.07\n",
      " cores 4\n",
      " threads 8\n",
      " Average_MHz 1819.63\n"
     ]
    }
   ],
   "source": [
    "cpu.print_data()"
   ]
  },
  {
   "cell_type": "markdown",
   "metadata": {},
   "source": [
    "### Get data\n",
    "In case we are interested in obtaining the information from the processor instead of printing it on the screen, we will execute the following sentence: "
   ]
  },
  {
   "cell_type": "code",
   "execution_count": 8,
   "metadata": {},
   "outputs": [
    {
     "data": {
      "text/plain": [
       "{'Name': 'AMD Ryzen 5 1400 Quad-Core Processor',\n",
       " 'CPU_usage': 21.96,\n",
       " 'cores': '4',\n",
       " 'threads': '8',\n",
       " 'Average_MHz': 1907.86}"
      ]
     },
     "execution_count": 8,
     "metadata": {},
     "output_type": "execute_result"
    }
   ],
   "source": [
    "cpu.data()"
   ]
  },
  {
   "cell_type": "markdown",
   "metadata": {},
   "source": [
    "# Memory information\n",
    "To access the system memory subclass, the following sentence will be executed: "
   ]
  },
  {
   "cell_type": "code",
   "execution_count": 9,
   "metadata": {},
   "outputs": [],
   "source": [
    "memory = Hwmon.MEM()"
   ]
  },
  {
   "cell_type": "markdown",
   "metadata": {},
   "source": [
    "Being the functions that interest us in this case: data() and print_data() . Let's see an example of each function: \n",
    "### Print information\n",
    "This function will print in a tabular and nice way all the information in the system memory. "
   ]
  },
  {
   "cell_type": "code",
   "execution_count": 10,
   "metadata": {},
   "outputs": [
    {
     "name": "stdout",
     "output_type": "stream",
     "text": [
      "Ctrl + C to exit the watch mode\n",
      "\n",
      " MemTotal 7.768MB\n",
      " MemFree 4.456MB\n",
      " MemAvailable 5.454MB\n",
      " Buffers 93.645KB\n",
      " Cached 1.181MB\n",
      " SwapCached 0B\n",
      " Active 1.995MB\n",
      " Inactive 843.719KB\n",
      " Active(anon) 1.547MB\n",
      " Inactive(anon) 111.426KB\n",
      " Active(file) 459.168KB\n",
      " Inactive(file) 732.293KB\n",
      " Unevictable 16.0B\n",
      " Mlocked 16.0B\n",
      " SwapTotal 2.000MB\n",
      " SwapFree 2.000MB\n",
      " Dirty 1.352KB\n",
      " Writeback 0B\n",
      " AnonPages 1.547MB\n",
      " Mapped 551.652KB\n",
      " Shmem 113.406KB\n",
      " KReclaimable 87.984KB\n",
      " Slab 225.844KB\n",
      " SReclaimable 87.984KB\n",
      " SUnreclaim 137.859KB\n",
      " KernelStack 18.953KB\n",
      " PageTables 52.387KB\n",
      " NFS_Unstable 0B\n",
      " Bounce 0B\n",
      " WritebackTmp 0B\n",
      " CommitLimit 5.884MB\n",
      " Committed_AS 8.029MB\n",
      " VmallocTotal 32.000GB\n",
      " VmallocUsed 35.332KB\n",
      " VmallocChunk 0B\n",
      " Percpu 14.062KB\n",
      " HardwareCorrupted 0B\n",
      " AnonHugePages 0B\n",
      " ShmemHugePages 0B\n",
      " ShmemPmdMapped 0B\n",
      " CmaTotal 0B\n",
      " CmaFree 0B\n",
      " HugePages_Total 0B\n",
      " HugePages_Free 0B\n",
      " HugePages_Rsvd 0B\n",
      " HugePages_Surp 0B\n",
      " Hugepagesize 2.000KB\n",
      " Hugetlb 0B\n",
      " DirectMap4k 415.266KB\n",
      " DirectMap2M 5.529MB\n",
      " DirectMap1G 3.000MB\n"
     ]
    }
   ],
   "source": [
    "memory.print_data()"
   ]
  },
  {
   "cell_type": "markdown",
   "metadata": {},
   "source": [
    "### Get data\n",
    "In case we are interested in obtaining the information from memory instead of printing it out on the screen, we will execute the following sentence: "
   ]
  },
  {
   "cell_type": "code",
   "execution_count": 11,
   "metadata": {},
   "outputs": [
    {
     "data": {
      "text/plain": [
       "{'MemTotal': '7.768MB',\n",
       " 'MemFree': '4.426MB',\n",
       " 'MemAvailable': '5.438MB',\n",
       " 'Buffers': '93.770KB',\n",
       " 'Cached': '1.209MB',\n",
       " 'SwapCached': '0B',\n",
       " 'Active': '2.013MB',\n",
       " 'Inactive': '856.625KB',\n",
       " 'Active(anon)': '1.549MB',\n",
       " 'Inactive(anon)': '126.043KB',\n",
       " 'Active(file)': '475.441KB',\n",
       " 'Inactive(file)': '730.582KB',\n",
       " 'Unevictable': '16.0B',\n",
       " 'Mlocked': '16.0B',\n",
       " 'SwapTotal': '2.000MB',\n",
       " 'SwapFree': '2.000MB',\n",
       " 'Dirty': '7.188KB',\n",
       " 'Writeback': '0B',\n",
       " 'AnonPages': '1.549MB',\n",
       " 'Mapped': '566.273KB',\n",
       " 'Shmem': '128.027KB',\n",
       " 'KReclaimable': '88.469KB',\n",
       " 'Slab': '226.367KB',\n",
       " 'SReclaimable': '88.469KB',\n",
       " 'SUnreclaim': '137.898KB',\n",
       " 'KernelStack': '18.969KB',\n",
       " 'PageTables': '52.406KB',\n",
       " 'NFS_Unstable': '0B',\n",
       " 'Bounce': '0B',\n",
       " 'WritebackTmp': '0B',\n",
       " 'CommitLimit': '5.884MB',\n",
       " 'Committed_AS': '8.035MB',\n",
       " 'VmallocTotal': '32.000GB',\n",
       " 'VmallocUsed': '35.332KB',\n",
       " 'VmallocChunk': '0B',\n",
       " 'Percpu': '14.062KB',\n",
       " 'HardwareCorrupted': '0B',\n",
       " 'AnonHugePages': '0B',\n",
       " 'ShmemHugePages': '0B',\n",
       " 'ShmemPmdMapped': '0B',\n",
       " 'CmaTotal': '0B',\n",
       " 'CmaFree': '0B',\n",
       " 'HugePages_Total': '0B',\n",
       " 'HugePages_Free': '0B',\n",
       " 'HugePages_Rsvd': '0B',\n",
       " 'HugePages_Surp': '0B',\n",
       " 'Hugepagesize': '2.000KB',\n",
       " 'Hugetlb': '0B',\n",
       " 'DirectMap4k': '415.266KB',\n",
       " 'DirectMap2M': '5.529MB',\n",
       " 'DirectMap1G': '3.000MB'}"
      ]
     },
     "execution_count": 11,
     "metadata": {},
     "output_type": "execute_result"
    }
   ],
   "source": [
    "memory.data()"
   ]
  },
  {
   "cell_type": "markdown",
   "metadata": {},
   "source": [
    "# Network information\n",
    "To access the network subclass, the following sentence will be executed: "
   ]
  },
  {
   "cell_type": "code",
   "execution_count": 12,
   "metadata": {},
   "outputs": [],
   "source": [
    "net = Hwmon.NET()"
   ]
  },
  {
   "cell_type": "markdown",
   "metadata": {},
   "source": [
    "Being the functions that interest us in this case: data() and print_data() . Let's see an example of each function: \n",
    "### Print information\n",
    "This function will print in a tabular and nice way all the information of the system network. "
   ]
  },
  {
   "cell_type": "code",
   "execution_count": 13,
   "metadata": {},
   "outputs": [
    {
     "name": "stdout",
     "output_type": "stream",
     "text": [
      "Ctrl + C to exit the watch mode\n",
      "\n",
      "     lo\n",
      "\t receive\n",
      "\t\t bytes 1740455\n",
      "\t\t packets 4194\n",
      "\t\t errs 0\n",
      "\t\t drop 0\n",
      "\t\t fifo 0\n",
      "\t\t frame 0\n",
      "\t\t compressed 0\n",
      "\t\t multicast 0\n",
      "\t transmit\n",
      "\t\t bytes 4194\n",
      "\t\t packets 0\n",
      "\t\t errs 0\n",
      "\t\t drop 0\n",
      "\t\t fifo 0\n",
      "\t\t colls 0\n",
      "\t\t carrier 0\n",
      " enp37s0\n",
      "\t receive\n",
      "\t\t bytes 177451055\n",
      "\t\t packets 125501\n",
      "\t\t errs 0\n",
      "\t\t drop 0\n",
      "\t\t fifo 0\n",
      "\t\t frame 0\n",
      "\t\t compressed 0\n",
      "\t\t multicast 125\n",
      "\t transmit\n",
      "\t\t bytes 55835\n",
      "\t\t packets 0\n",
      "\t\t errs 0\n",
      "\t\t drop 0\n",
      "\t\t fifo 0\n",
      "\t\t colls 0\n",
      "\t\t carrier 0\n",
      " docker0\n",
      "\t receive\n",
      "\t\t bytes 0\n",
      "\t\t packets 0\n",
      "\t\t errs 0\n",
      "\t\t drop 0\n",
      "\t\t fifo 0\n",
      "\t\t frame 0\n",
      "\t\t compressed 0\n",
      "\t\t multicast 0\n",
      "\t transmit\n",
      "\t\t bytes 0\n",
      "\t\t packets 0\n",
      "\t\t errs 0\n",
      "\t\t drop 0\n",
      "\t\t fifo 0\n",
      "\t\t colls 0\n",
      "\t\t carrier 0\n"
     ]
    }
   ],
   "source": [
    "net.print_data()"
   ]
  },
  {
   "cell_type": "markdown",
   "metadata": {},
   "source": [
    "### Get data\n",
    "In case we are interested in getting the information from the network instead of printing it on the screen, we will execute the following sentence: "
   ]
  },
  {
   "cell_type": "code",
   "execution_count": 14,
   "metadata": {},
   "outputs": [
    {
     "data": {
      "text/plain": [
       "{'    lo': {'receive': {'bytes': 1785202,\n",
       "   'packets': 4508,\n",
       "   'errs': 0,\n",
       "   'drop': 0,\n",
       "   'fifo': 0,\n",
       "   'frame': 0,\n",
       "   'compressed': 0,\n",
       "   'multicast': 0},\n",
       "  'transmit': {'bytes': 4508,\n",
       "   'packets': 0,\n",
       "   'errs': 0,\n",
       "   'drop': 0,\n",
       "   'fifo': 0,\n",
       "   'colls': 0,\n",
       "   'carrier': 0}},\n",
       " 'enp37s0': {'receive': {'bytes': 184751747,\n",
       "   'packets': 130754,\n",
       "   'errs': 0,\n",
       "   'drop': 0,\n",
       "   'fifo': 0,\n",
       "   'frame': 0,\n",
       "   'compressed': 0,\n",
       "   'multicast': 129},\n",
       "  'transmit': {'bytes': 58199,\n",
       "   'packets': 0,\n",
       "   'errs': 0,\n",
       "   'drop': 0,\n",
       "   'fifo': 0,\n",
       "   'colls': 0,\n",
       "   'carrier': 0}},\n",
       " 'docker0': {'receive': {'bytes': 0,\n",
       "   'packets': 0,\n",
       "   'errs': 0,\n",
       "   'drop': 0,\n",
       "   'fifo': 0,\n",
       "   'frame': 0,\n",
       "   'compressed': 0,\n",
       "   'multicast': 0},\n",
       "  'transmit': {'bytes': 0,\n",
       "   'packets': 0,\n",
       "   'errs': 0,\n",
       "   'drop': 0,\n",
       "   'fifo': 0,\n",
       "   'colls': 0,\n",
       "   'carrier': 0}}}"
      ]
     },
     "execution_count": 14,
     "metadata": {},
     "output_type": "execute_result"
    }
   ],
   "source": [
    "net.data()"
   ]
  },
  {
   "cell_type": "code",
   "execution_count": null,
   "metadata": {},
   "outputs": [],
   "source": []
  },
  {
   "cell_type": "code",
   "execution_count": null,
   "metadata": {},
   "outputs": [],
   "source": []
  },
  {
   "cell_type": "code",
   "execution_count": null,
   "metadata": {},
   "outputs": [],
   "source": []
  },
  {
   "cell_type": "code",
   "execution_count": null,
   "metadata": {},
   "outputs": [],
   "source": []
  },
  {
   "cell_type": "code",
   "execution_count": null,
   "metadata": {},
   "outputs": [],
   "source": []
  },
  {
   "cell_type": "code",
   "execution_count": null,
   "metadata": {},
   "outputs": [],
   "source": []
  },
  {
   "cell_type": "code",
   "execution_count": null,
   "metadata": {},
   "outputs": [],
   "source": []
  },
  {
   "cell_type": "code",
   "execution_count": null,
   "metadata": {},
   "outputs": [],
   "source": []
  },
  {
   "cell_type": "code",
   "execution_count": null,
   "metadata": {},
   "outputs": [],
   "source": []
  },
  {
   "cell_type": "code",
   "execution_count": null,
   "metadata": {},
   "outputs": [],
   "source": []
  },
  {
   "cell_type": "code",
   "execution_count": null,
   "metadata": {},
   "outputs": [],
   "source": []
  }
 ],
 "metadata": {
  "kernelspec": {
   "display_name": "Python 3",
   "language": "python",
   "name": "python3"
  },
  "language_info": {
   "codemirror_mode": {
    "name": "ipython",
    "version": 3
   },
   "file_extension": ".py",
   "mimetype": "text/x-python",
   "name": "python",
   "nbconvert_exporter": "python",
   "pygments_lexer": "ipython3",
   "version": "3.6.9"
  }
 },
 "nbformat": 4,
 "nbformat_minor": 4
}
