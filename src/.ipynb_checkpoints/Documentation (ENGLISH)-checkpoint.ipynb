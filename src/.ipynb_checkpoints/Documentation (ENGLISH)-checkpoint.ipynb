{
 "cells": [
  {
   "cell_type": "markdown",
   "metadata": {},
   "source": [
    "# Hwmon's Documentation\n",
    "\n",
    "**Authors:** bla6 and Guillermo-C-A\n",
    "\n",
    "**Repository:**\n",
    "\n",
    "## Motivations to create Hwmon \n",
    "\n",
    "Hwmon has been created with the intention of replacing Linux libraries and APIs with which to obtain system information without the need to depend on dependencies outside a standard Linux system, i. e. that nothing needs to be installed. \n",
    "\n",
    "The only requirements for running Hwmon on a system are: \n",
    "\n",
    "- The OS is Linux \n",
    "- Have python 3 \n",
    "\n",
    "Hwmon is also a library developed expressly by and for Python 3 with functions that are easy to understand and operate, which read and synthesize in the same library all the useful information for monitoring a Linux system that can be found in the /ys, /proc and /dev folders. So only the information that the system itself has recorded will be obtained. \n",
    "\n",
    "## Why use Hwmon instead of other bookstores? \n",
    "\n",
    "As already mentioned, Hwmon does not require any dependencies or programs and is a library created with the standard Python 3 libraries. Which is not the case with other bookstores as they are: \n",
    "\n",
    "- Pysensors\n",
    "- lm-sensors\n",
    "- psutil\n",
    "\n",
    "Where you need files and programs to be able to work, so if you're missing some of that, it just doesn't work. They are also heavier solutions in terms of file sizes than Hwmon. \n",
    "\n",
    "## Is it really a viable alternative to lm-sensors? \n",
    "\n",
    "Yes. Hwmon is able to return and print the same information that is obtained when installing and running sensors. \n",
    "\n",
    "![https://github.com/Guillermo-C-A/Hwmon-python/blob/master/rd_data/hwmon%20vs%20lm-sensors.png](attachment:imagen.png)\n",
    "\n",
    "And it even prints the information on the screen in a nice and friendly way so that it is more useful and easy to understand. \n",
    "\n",
    "## What information can I get from Hwmon and where does he get it from? \n",
    "\n",
    "Hwmon is able to extract: \n",
    "\n",
    "- Information from the sensors available on the computer \n",
    "- Processor information \n",
    "- System memory information \n",
    "- Sent and received packet information \n",
    "- USB devices connected to the computer \n",
    "- Disks connected to the computer \n",
    "\n",
    "All this information is extracted respectively from the following sites: \n",
    "\n",
    "- /sys/class/hwmon\n",
    "- /proc/cpuinfo y /proc/stat\n",
    "- /proc/meminfo\n",
    "- /proc/net/dev\n",
    "- /dev/input/by-id\n",
    "- /dev/disk/by-id\n",
    "\n",
    "## How to use and call the bookstore? "
   ]
  },
  {
   "cell_type": "code",
   "execution_count": 1,
   "metadata": {},
   "outputs": [],
   "source": [
    "from hwmon import Hwmon"
   ]
  },
  {
   "cell_type": "markdown",
   "metadata": {},
   "source": [
    "# Sensor information \n",
    "To access the sensor subclass, the following statement will be executed: "
   ]
  },
  {
   "cell_type": "code",
   "execution_count": 2,
   "metadata": {},
   "outputs": [],
   "source": [
    "sensors = Hwmon.HW()"
   ]
  },
  {
   "cell_type": "markdown",
   "metadata": {},
   "source": [
    "Being the functions that interest us in this case: data() and print_data() . Let's see an example of each function: \n",
    "### Print sensors \n",
    "This function will print all the sensor information of the system in a tabular and nice way. "
   ]
  },
  {
   "cell_type": "code",
   "execution_count": 3,
   "metadata": {},
   "outputs": [
    {
     "name": "stdout",
     "output_type": "stream",
     "text": [
      " amdgpu\n",
      "\t vddgfx 0.862 v\n",
      "\t power1 35.04 w\n",
      "\t fan1 1119 RPM\n",
      "\t edge 33.0 C\n",
      " nct6779\n",
      "\t AUXTIN3 -28.0 C\n",
      "\t in3 3.344 v\n",
      "\t fan3 0 RPM\n",
      "\t in7 3.472 v\n",
      "\t AUXTIN0 -2.5 C\n",
      "\t in12 1.68 v\n",
      "\t in0 0.568 v\n",
      "\t PCH_CPU_TEMP 0.0 C\n",
      "\t SMBUSMASTER 0 32.5 C\n",
      "\t in4 1.84 v\n",
      "\t fan4 0 RPM\n",
      "\t in8 3.264 v\n",
      "\t AUXTIN1 85.0 C\n",
      "\t in13 0.944 v\n",
      "\t in1 0.0 v\n",
      "\t fan1 0 RPM\n",
      "\t PCH_CHIP_CPU_MAX_TEMP 0.0 C\n",
      "\t in5 0.84 v\n",
      "\t SYSTIN 31.0 C\n",
      "\t in10 0.352 v\n",
      "\t fan5 0 RPM\n",
      "\t in9 0.0 v\n",
      "\t AUXTIN2 23.0 C\n",
      "\t in14 1.848 v\n",
      "\t in2 3.344 v\n",
      "\t fan2 1945 RPM\n",
      "\t PCH_CHIP_TEMP 0.0 C\n",
      "\t in6 1.536 v\n",
      "\t CPUTIN 33.0 C\n",
      "\t in11 1.056 v\n",
      " k10temp\n",
      "\t Tdie 32.625 C\n",
      "\t Tctl 32.625 C\n"
     ]
    }
   ],
   "source": [
    "sensors.print_data()"
   ]
  },
  {
   "cell_type": "markdown",
   "metadata": {},
   "source": [
    "### Get data\n",
    "In case we are interested in getting the information from the sensors instead of printing it on the screen, we will execute the following sentence: "
   ]
  },
  {
   "cell_type": "code",
   "execution_count": 4,
   "metadata": {},
   "outputs": [
    {
     "data": {
      "text/plain": [
       "{'amdgpu': {'vddgfx': '0.862 v',\n",
       "  'power1': '34.169 w',\n",
       "  'fan1': '1120 RPM',\n",
       "  'edge': '33.0 C'},\n",
       " 'nct6779': {'AUXTIN3': '-28.0 C',\n",
       "  'in3': '3.344 v',\n",
       "  'fan3': '0 RPM',\n",
       "  'in7': '3.472 v',\n",
       "  'AUXTIN0': '-2.5 C',\n",
       "  'in12': '1.68 v',\n",
       "  'in0': '0.568 v',\n",
       "  'PCH_CPU_TEMP': '0.0 C',\n",
       "  'SMBUSMASTER 0': '32.5 C',\n",
       "  'in4': '1.84 v',\n",
       "  'fan4': '0 RPM',\n",
       "  'in8': '3.264 v',\n",
       "  'AUXTIN1': '85.0 C',\n",
       "  'in13': '0.944 v',\n",
       "  'in1': '0.0 v',\n",
       "  'fan1': '0 RPM',\n",
       "  'PCH_CHIP_CPU_MAX_TEMP': '0.0 C',\n",
       "  'in5': '0.84 v',\n",
       "  'SYSTIN': '31.0 C',\n",
       "  'in10': '0.352 v',\n",
       "  'fan5': '0 RPM',\n",
       "  'in9': '0.0 v',\n",
       "  'AUXTIN2': '23.0 C',\n",
       "  'in14': '1.848 v',\n",
       "  'in2': '3.344 v',\n",
       "  'fan2': '1945 RPM',\n",
       "  'PCH_CHIP_TEMP': '0.0 C',\n",
       "  'in6': '1.536 v',\n",
       "  'CPUTIN': '33.0 C',\n",
       "  'in11': '1.056 v'},\n",
       " 'k10temp': {'Tdie': '32.625 C', 'Tctl': '32.625 C'}}"
      ]
     },
     "execution_count": 4,
     "metadata": {},
     "output_type": "execute_result"
    }
   ],
   "source": [
    "sensors.data()"
   ]
  },
  {
   "cell_type": "markdown",
   "metadata": {},
   "source": [
    "# Processor information\n",
    "To access the processor subclass, the following sentence will be executed "
   ]
  },
  {
   "cell_type": "code",
   "execution_count": 5,
   "metadata": {},
   "outputs": [],
   "source": [
    "cpu = Hwmon.CPU()"
   ]
  },
  {
   "cell_type": "markdown",
   "metadata": {},
   "source": [
    "Being the functions that interest us in this case: data() and print_data(). Let's see an example of each function:\n",
    "### Print information\n",
    "This function will print all the information of the system processor in a tabular and nice way. "
   ]
  },
  {
   "cell_type": "code",
   "execution_count": 6,
   "metadata": {},
   "outputs": [
    {
     "name": "stdout",
     "output_type": "stream",
     "text": [
      " Name AMD Ryzen 5 1400 Quad-Core Processor\n",
      " CPU_usage 14.32\n",
      " cores 4\n",
      " threads 8\n",
      " Average_MHz 1449.3\n"
     ]
    }
   ],
   "source": [
    "cpu.print_data()"
   ]
  },
  {
   "cell_type": "markdown",
   "metadata": {},
   "source": [
    "### Get data\n",
    "In case we are interested in obtaining the information from the processor instead of printing it on the screen, we will execute the following sentence: "
   ]
  },
  {
   "cell_type": "code",
   "execution_count": 7,
   "metadata": {},
   "outputs": [
    {
     "data": {
      "text/plain": [
       "{'Name': 'AMD Ryzen 5 1400 Quad-Core Processor',\n",
       " 'CPU_usage': 14.32,\n",
       " 'cores': '4',\n",
       " 'threads': '8',\n",
       " 'Average_MHz': 1719.68}"
      ]
     },
     "execution_count": 7,
     "metadata": {},
     "output_type": "execute_result"
    }
   ],
   "source": [
    "cpu.data()"
   ]
  },
  {
   "cell_type": "markdown",
   "metadata": {},
   "source": [
    "# Memory information\n",
    "To access the system memory subclass, the following sentence will be executed: "
   ]
  },
  {
   "cell_type": "code",
   "execution_count": 8,
   "metadata": {},
   "outputs": [],
   "source": [
    "memory = Hwmon.MEM()"
   ]
  },
  {
   "cell_type": "markdown",
   "metadata": {},
   "source": [
    "Being the functions that interest us in this case: data() and print_data() . Let's see an example of each function: \n",
    "### Print information\n",
    "This function will print in a tabular and nice way all the information in the system memory. "
   ]
  },
  {
   "cell_type": "code",
   "execution_count": 9,
   "metadata": {},
   "outputs": [
    {
     "name": "stdout",
     "output_type": "stream",
     "text": [
      " MemTotal 7.768MB\n",
      " MemFree 2.569MB\n",
      " MemAvailable 4.349MB\n",
      " Buffers 156.973KB\n",
      " Cached 1.850MB\n",
      " SwapCached 0B\n",
      " Active 3.608MB\n",
      " Inactive 1.012MB\n",
      " Active(anon) 2.576MB\n",
      " Inactive(anon) 116.551KB\n",
      " Active(file) 1.032MB\n",
      " Inactive(file) 919.520KB\n",
      " Unevictable 32.0B\n",
      " Mlocked 32.0B\n",
      " SwapTotal 2.000MB\n",
      " SwapFree 2.000MB\n",
      " Dirty 960.0B\n",
      " Writeback 0B\n",
      " AnonPages 2.617MB\n",
      " Mapped 683.496KB\n",
      " Shmem 118.547KB\n",
      " KReclaimable 122.035KB\n",
      " Slab 270.754KB\n",
      " SReclaimable 122.035KB\n",
      " SUnreclaim 148.719KB\n",
      " KernelStack 24.109KB\n",
      " PageTables 70.258KB\n",
      " NFS_Unstable 0B\n",
      " Bounce 0B\n",
      " WritebackTmp 0B\n",
      " CommitLimit 5.884MB\n",
      " Committed_AS 11.335MB\n",
      " VmallocTotal 32.000GB\n",
      " VmallocUsed 40.414KB\n",
      " VmallocChunk 0B\n",
      " Percpu 14.250KB\n",
      " HardwareCorrupted 0B\n",
      " AnonHugePages 0B\n",
      " ShmemHugePages 0B\n",
      " ShmemPmdMapped 0B\n",
      " CmaTotal 0B\n",
      " CmaFree 0B\n",
      " HugePages_Total 0B\n",
      " HugePages_Free 0B\n",
      " HugePages_Rsvd 0B\n",
      " HugePages_Surp 0B\n",
      " Hugepagesize 2.000KB\n",
      " Hugetlb 0B\n",
      " DirectMap4k 447.266KB\n",
      " DirectMap2M 6.498MB\n",
      " DirectMap1G 2.000MB\n"
     ]
    }
   ],
   "source": [
    "memory.print_data()"
   ]
  },
  {
   "cell_type": "markdown",
   "metadata": {},
   "source": [
    "### Get data\n",
    "In case we are interested in obtaining the information from memory instead of printing it out on the screen, we will execute the following sentence: "
   ]
  },
  {
   "cell_type": "code",
   "execution_count": 10,
   "metadata": {},
   "outputs": [
    {
     "data": {
      "text/plain": [
       "{'MemTotal': '7.768MB',\n",
       " 'MemFree': '2.569MB',\n",
       " 'MemAvailable': '4.349MB',\n",
       " 'Buffers': '156.980KB',\n",
       " 'Cached': '1.850MB',\n",
       " 'SwapCached': '0B',\n",
       " 'Active': '3.608MB',\n",
       " 'Inactive': '1.012MB',\n",
       " 'Active(anon)': '2.576MB',\n",
       " 'Inactive(anon)': '116.551KB',\n",
       " 'Active(file)': '1.032MB',\n",
       " 'Inactive(file)': '919.520KB',\n",
       " 'Unevictable': '32.0B',\n",
       " 'Mlocked': '32.0B',\n",
       " 'SwapTotal': '2.000MB',\n",
       " 'SwapFree': '2.000MB',\n",
       " 'Dirty': '964.0B',\n",
       " 'Writeback': '0B',\n",
       " 'AnonPages': '2.616MB',\n",
       " 'Mapped': '683.496KB',\n",
       " 'Shmem': '118.547KB',\n",
       " 'KReclaimable': '122.035KB',\n",
       " 'Slab': '270.754KB',\n",
       " 'SReclaimable': '122.035KB',\n",
       " 'SUnreclaim': '148.719KB',\n",
       " 'KernelStack': '24.109KB',\n",
       " 'PageTables': '70.258KB',\n",
       " 'NFS_Unstable': '0B',\n",
       " 'Bounce': '0B',\n",
       " 'WritebackTmp': '0B',\n",
       " 'CommitLimit': '5.884MB',\n",
       " 'Committed_AS': '11.335MB',\n",
       " 'VmallocTotal': '32.000GB',\n",
       " 'VmallocUsed': '40.414KB',\n",
       " 'VmallocChunk': '0B',\n",
       " 'Percpu': '14.250KB',\n",
       " 'HardwareCorrupted': '0B',\n",
       " 'AnonHugePages': '0B',\n",
       " 'ShmemHugePages': '0B',\n",
       " 'ShmemPmdMapped': '0B',\n",
       " 'CmaTotal': '0B',\n",
       " 'CmaFree': '0B',\n",
       " 'HugePages_Total': '0B',\n",
       " 'HugePages_Free': '0B',\n",
       " 'HugePages_Rsvd': '0B',\n",
       " 'HugePages_Surp': '0B',\n",
       " 'Hugepagesize': '2.000KB',\n",
       " 'Hugetlb': '0B',\n",
       " 'DirectMap4k': '447.266KB',\n",
       " 'DirectMap2M': '6.498MB',\n",
       " 'DirectMap1G': '2.000MB'}"
      ]
     },
     "execution_count": 10,
     "metadata": {},
     "output_type": "execute_result"
    }
   ],
   "source": [
    "memory.data()"
   ]
  },
  {
   "cell_type": "markdown",
   "metadata": {},
   "source": [
    "# Network information\n",
    "To access the network subclass, the following sentence will be executed: "
   ]
  },
  {
   "cell_type": "code",
   "execution_count": 11,
   "metadata": {},
   "outputs": [],
   "source": [
    "net = Hwmon.NET()"
   ]
  },
  {
   "cell_type": "markdown",
   "metadata": {},
   "source": [
    "Being the functions that interest us in this case: data() and print_data() . Let's see an example of each function: \n",
    "### Print information\n",
    "This function will print in a tabular and nice way all the information of the system network. "
   ]
  },
  {
   "cell_type": "code",
   "execution_count": 12,
   "metadata": {},
   "outputs": [
    {
     "name": "stdout",
     "output_type": "stream",
     "text": [
      "     lo\n",
      "\t receive\n",
      "\t\t bytes 7593337\n",
      "\t\t packets 14478\n",
      "\t\t errs 0\n",
      "\t\t drop 0\n",
      "\t\t fifo 0\n",
      "\t\t frame 0\n",
      "\t\t compressed 0\n",
      "\t\t multicast 0\n",
      "\t transmit\n",
      "\t\t bytes 14478\n",
      "\t\t packets 0\n",
      "\t\t errs 0\n",
      "\t\t drop 0\n",
      "\t\t fifo 0\n",
      "\t\t colls 0\n",
      "\t\t carrier 0\n",
      " enp37s0\n",
      "\t receive\n",
      "\t\t bytes 1279460566\n",
      "\t\t packets 864808\n",
      "\t\t errs 0\n",
      "\t\t drop 0\n",
      "\t\t fifo 0\n",
      "\t\t frame 0\n",
      "\t\t compressed 0\n",
      "\t\t multicast 507\n",
      "\t transmit\n",
      "\t\t bytes 362337\n",
      "\t\t packets 0\n",
      "\t\t errs 0\n",
      "\t\t drop 0\n",
      "\t\t fifo 0\n",
      "\t\t colls 0\n",
      "\t\t carrier 0\n",
      " docker0\n",
      "\t receive\n",
      "\t\t bytes 0\n",
      "\t\t packets 0\n",
      "\t\t errs 0\n",
      "\t\t drop 0\n",
      "\t\t fifo 0\n",
      "\t\t frame 0\n",
      "\t\t compressed 0\n",
      "\t\t multicast 0\n",
      "\t transmit\n",
      "\t\t bytes 0\n",
      "\t\t packets 0\n",
      "\t\t errs 0\n",
      "\t\t drop 0\n",
      "\t\t fifo 0\n",
      "\t\t colls 0\n",
      "\t\t carrier 0\n"
     ]
    }
   ],
   "source": [
    "net.print_data()"
   ]
  },
  {
   "cell_type": "markdown",
   "metadata": {},
   "source": [
    "### Get data\n",
    "In case we are interested in getting the information from the network instead of printing it on the screen, we will execute the following sentence: "
   ]
  },
  {
   "cell_type": "code",
   "execution_count": 13,
   "metadata": {},
   "outputs": [
    {
     "data": {
      "text/plain": [
       "{'    lo': {'receive': {'bytes': 7605359,\n",
       "   'packets': 14503,\n",
       "   'errs': 0,\n",
       "   'drop': 0,\n",
       "   'fifo': 0,\n",
       "   'frame': 0,\n",
       "   'compressed': 0,\n",
       "   'multicast': 0},\n",
       "  'transmit': {'bytes': 14503,\n",
       "   'packets': 0,\n",
       "   'errs': 0,\n",
       "   'drop': 0,\n",
       "   'fifo': 0,\n",
       "   'colls': 0,\n",
       "   'carrier': 0}},\n",
       " 'enp37s0': {'receive': {'bytes': 1279460566,\n",
       "   'packets': 864808,\n",
       "   'errs': 0,\n",
       "   'drop': 0,\n",
       "   'fifo': 0,\n",
       "   'frame': 0,\n",
       "   'compressed': 0,\n",
       "   'multicast': 507},\n",
       "  'transmit': {'bytes': 362337,\n",
       "   'packets': 0,\n",
       "   'errs': 0,\n",
       "   'drop': 0,\n",
       "   'fifo': 0,\n",
       "   'colls': 0,\n",
       "   'carrier': 0}},\n",
       " 'docker0': {'receive': {'bytes': 0,\n",
       "   'packets': 0,\n",
       "   'errs': 0,\n",
       "   'drop': 0,\n",
       "   'fifo': 0,\n",
       "   'frame': 0,\n",
       "   'compressed': 0,\n",
       "   'multicast': 0},\n",
       "  'transmit': {'bytes': 0,\n",
       "   'packets': 0,\n",
       "   'errs': 0,\n",
       "   'drop': 0,\n",
       "   'fifo': 0,\n",
       "   'colls': 0,\n",
       "   'carrier': 0}}}"
      ]
     },
     "execution_count": 13,
     "metadata": {},
     "output_type": "execute_result"
    }
   ],
   "source": [
    "net.data()"
   ]
  },
  {
   "cell_type": "markdown",
   "metadata": {},
   "source": [
    "# USB devices information\n",
    "To access the USB subclass, the following sentence will be executed: "
   ]
  },
  {
   "cell_type": "code",
   "execution_count": 14,
   "metadata": {},
   "outputs": [],
   "source": [
    "usb = Hwmon.USB()"
   ]
  },
  {
   "cell_type": "markdown",
   "metadata": {},
   "source": [
    "Being the functions that interest us in this case: data() and print_data() . Let's see an example of each function: \n",
    "### Print information\n",
    "This function will print in a tabular and nice way all the information of the USBs in the system. "
   ]
  },
  {
   "cell_type": "code",
   "execution_count": 15,
   "metadata": {},
   "outputs": [
    {
     "name": "stdout",
     "output_type": "stream",
     "text": [
      "usb-Logitech_Gaming_Mouse_G300-mouse\n",
      "usb-CHICONY_USB_Keyboard\n",
      "usb-Logitech_Gaming_Mouse_G300\n",
      "usb-Logitech_Gaming_Mouse_G300-if01\n"
     ]
    }
   ],
   "source": [
    "usb.print_data()"
   ]
  },
  {
   "cell_type": "markdown",
   "metadata": {},
   "source": [
    "### Get data\n",
    "In case we are interested in getting the information from the sensors instead of printing it on the screen, we will execute the following sentence: "
   ]
  },
  {
   "cell_type": "code",
   "execution_count": 16,
   "metadata": {},
   "outputs": [
    {
     "data": {
      "text/plain": [
       "['usb-Logitech_Gaming_Mouse_G300-mouse',\n",
       " 'usb-CHICONY_USB_Keyboard',\n",
       " 'usb-Logitech_Gaming_Mouse_G300',\n",
       " 'usb-Logitech_Gaming_Mouse_G300-if01']"
      ]
     },
     "execution_count": 16,
     "metadata": {},
     "output_type": "execute_result"
    }
   ],
   "source": [
    "usb.data()"
   ]
  },
  {
   "cell_type": "markdown",
   "metadata": {},
   "source": [
    "# Disks information\n",
    "To access the subclass of the disks, the following sentence will be executed: "
   ]
  },
  {
   "cell_type": "code",
   "execution_count": 17,
   "metadata": {},
   "outputs": [],
   "source": [
    "disk = Hwmon.DISK()"
   ]
  },
  {
   "cell_type": "markdown",
   "metadata": {},
   "source": [
    "Being the functions that interest us in this case: data() and print_data() . Let's see an example of each function: \n",
    "### Print information\n",
    "This function will print in a tabular and nice way all the information of the disks in the system. "
   ]
  },
  {
   "cell_type": "code",
   "execution_count": 18,
   "metadata": {},
   "outputs": [
    {
     "name": "stdout",
     "output_type": "stream",
     "text": [
      "wwn-0x50014ee202380e97\n",
      "ata-WDC_WD3200BEVT-22ZCT0_WD-WXEY08F45384\n",
      "wwn-0x500080dc007530e0\n",
      "ata-TOSHIBA-TL100_27NB51GCKSZU\n",
      "wwn-0x50014ee20b769657\n",
      "ata-WDC_WD20EZRX-22D8PB0_WD-WCC4M1ZJ83JD\n"
     ]
    }
   ],
   "source": [
    "disk.print_data()"
   ]
  },
  {
   "cell_type": "markdown",
   "metadata": {},
   "source": [
    "### Get data\n",
    "In case we are interested in getting the information from the sensors instead of printing it on the screen, we will execute the following sentence: "
   ]
  },
  {
   "cell_type": "code",
   "execution_count": null,
   "metadata": {},
   "outputs": [],
   "source": []
  }
 ],
 "metadata": {
  "kernelspec": {
   "display_name": "Python 3",
   "language": "python",
   "name": "python3"
  },
  "language_info": {
   "codemirror_mode": {
    "name": "ipython",
    "version": 3
   },
   "file_extension": ".py",
   "mimetype": "text/x-python",
   "name": "python",
   "nbconvert_exporter": "python",
   "pygments_lexer": "ipython3",
   "version": "3.6.9"
  }
 },
 "nbformat": 4,
 "nbformat_minor": 4
}
