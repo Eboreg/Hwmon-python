{
 "cells": [
  {
   "cell_type": "markdown",
   "metadata": {},
   "source": [
    "# Hwmon's Documentation\n",
    "\n",
    "**Authors:** bla6 and Guillermo-C-A\n",
    "\n",
    "**Repository:**\n",
    "\n",
    "## Motivations to create Hwmon \n",
    "\n",
    "Hwmon has been created with the intention of replacing Linux libraries and APIs with which to obtain system information without the need to depend on dependencies outside a standard Linux system, i. e. that nothing needs to be installed. \n",
    "\n",
    "The only requirements for running Hwmon on a system are: \n",
    "\n",
    "- The OS is Linux \n",
    "- Have python 3 \n",
    "\n",
    "Hwmon is also a library developed expressly by and for Python 3 with functions that are easy to understand and operate, which read and synthesize in the same library all the useful information for monitoring a Linux system that can be found in the /ys, /proc and /dev folders. So only the information that the system itself has recorded will be obtained. \n",
    "\n",
    "## Why use Hwmon instead of other bookstores? \n",
    "\n",
    "As already mentioned, Hwmon does not require any dependencies or programs and is a library created with the standard Python 3 libraries. Which is not the case with other bookstores as they are: \n",
    "\n",
    "- Pysensors\n",
    "- lm-sensors\n",
    "- psutil\n",
    "\n",
    "Where you need files and programs to be able to work, so if you're missing some of that, it just doesn't work. They are also heavier solutions in terms of file sizes than Hwmon. \n",
    "\n",
    "## Is it really a viable alternative to lm-sensors? \n",
    "\n",
    "Yes. Hwmon is able to return and print the same information that is obtained when installing and running sensors. \n",
    "\n",
    "![https://github.com/Guillermo-C-A/Hwmon-python/blob/master/rd_data/hwmon%20vs%20lm-sensors.png](attachment:imagen.png)\n",
    "\n",
    "And it even prints the information on the screen in a nice and friendly way so that it is more useful and easy to understand. \n",
    "\n",
    "## What information can I get from Hwmon and where does he get it from? \n",
    "\n",
    "Hwmon is able to extract: \n",
    "\n",
    "- Information from the sensors available on the computer \n",
    "- Processor information \n",
    "- System memory information \n",
    "- Sent and received packet information \n",
    "- USB devices connected to the computer \n",
    "- Disks connected to the computer \n",
    "\n",
    "All this information is extracted respectively from the following sites: \n",
    "\n",
    "- /sys/class/hwmon\n",
    "- /proc/cpuinfo y /proc/stat\n",
    "- /proc/meminfo\n",
    "- /proc/net/dev\n",
    "- /dev/input/by-id\n",
    "- /dev/disk/by-id\n",
    "\n",
    "## How to use and call the bookstore? "
   ]
  },
  {
   "cell_type": "code",
   "execution_count": 1,
   "metadata": {},
   "outputs": [
    {
     "ename": "ModuleNotFoundError",
     "evalue": "No module named 'hwmon'",
     "output_type": "error",
     "traceback": [
      "\u001b[0;31m---------------------------------------------------------------------------\u001b[0m",
      "\u001b[0;31mModuleNotFoundError\u001b[0m                       Traceback (most recent call last)",
      "\u001b[0;32m<ipython-input-1-915bd8c0facd>\u001b[0m in \u001b[0;36m<module>\u001b[0;34m\u001b[0m\n\u001b[0;32m----> 1\u001b[0;31m \u001b[0;32mfrom\u001b[0m \u001b[0mhwmon\u001b[0m \u001b[0;32mimport\u001b[0m \u001b[0mHwmon\u001b[0m\u001b[0;34m\u001b[0m\u001b[0;34m\u001b[0m\u001b[0m\n\u001b[0m",
      "\u001b[0;31mModuleNotFoundError\u001b[0m: No module named 'hwmon'"
     ]
    }
   ],
   "source": [
    "from hwmon import Hwmon"
   ]
  },
  {
   "cell_type": "markdown",
   "metadata": {},
   "source": [
    "# Sensor information \n",
    "To access the sensor subclass, the following statement will be executed: "
   ]
  },
  {
   "cell_type": "code",
   "execution_count": null,
   "metadata": {},
   "outputs": [],
   "source": [
    "sensors = Hwmon.HW()"
   ]
  },
  {
   "cell_type": "markdown",
   "metadata": {},
   "source": [
    "Being the functions that interest us in this case: data() and print_data() . Let's see an example of each function: \n",
    "### Print sensors \n",
    "This function will print all the sensor information of the system in a tabular and nice way. "
   ]
  },
  {
   "cell_type": "code",
   "execution_count": null,
   "metadata": {},
   "outputs": [],
   "source": [
    "sensors.print_data()"
   ]
  },
  {
   "cell_type": "markdown",
   "metadata": {},
   "source": [
    "### Get data\n",
    "In case we are interested in getting the information from the sensors instead of printing it on the screen, we will execute the following sentence: "
   ]
  },
  {
   "cell_type": "code",
   "execution_count": null,
   "metadata": {},
   "outputs": [],
   "source": [
    "sensors.data()"
   ]
  },
  {
   "cell_type": "markdown",
   "metadata": {},
   "source": [
    "# Processor information\n",
    "To access the processor subclass, the following sentence will be executed "
   ]
  },
  {
   "cell_type": "code",
   "execution_count": null,
   "metadata": {},
   "outputs": [],
   "source": [
    "cpu = Hwmon.CPU()"
   ]
  },
  {
   "cell_type": "markdown",
   "metadata": {},
   "source": [
    "Being the functions that interest us in this case: data() and print_data(). Let's see an example of each function:\n",
    "### Print information\n",
    "This function will print all the information of the system processor in a tabular and nice way. "
   ]
  },
  {
   "cell_type": "code",
   "execution_count": null,
   "metadata": {},
   "outputs": [],
   "source": [
    "cpu.print_data()"
   ]
  },
  {
   "cell_type": "markdown",
   "metadata": {},
   "source": [
    "### Get data\n",
    "In case we are interested in obtaining the information from the processor instead of printing it on the screen, we will execute the following sentence: "
   ]
  },
  {
   "cell_type": "code",
   "execution_count": null,
   "metadata": {},
   "outputs": [],
   "source": [
    "cpu.data()"
   ]
  },
  {
   "cell_type": "markdown",
   "metadata": {},
   "source": [
    "# Memory information\n",
    "To access the system memory subclass, the following sentence will be executed: "
   ]
  },
  {
   "cell_type": "code",
   "execution_count": null,
   "metadata": {},
   "outputs": [],
   "source": [
    "memory = Hwmon.MEM()"
   ]
  },
  {
   "cell_type": "markdown",
   "metadata": {},
   "source": [
    "Being the functions that interest us in this case: data() and print_data() . Let's see an example of each function: \n",
    "### Print information\n",
    "This function will print in a tabular and nice way all the information in the system memory. "
   ]
  },
  {
   "cell_type": "code",
   "execution_count": null,
   "metadata": {},
   "outputs": [],
   "source": [
    "memory.print_data()"
   ]
  },
  {
   "cell_type": "markdown",
   "metadata": {},
   "source": [
    "### Get data\n",
    "In case we are interested in obtaining the information from memory instead of printing it out on the screen, we will execute the following sentence: "
   ]
  },
  {
   "cell_type": "code",
   "execution_count": null,
   "metadata": {},
   "outputs": [],
   "source": [
    "memory.data()"
   ]
  },
  {
   "cell_type": "markdown",
   "metadata": {},
   "source": [
    "# Network information\n",
    "To access the network subclass, the following sentence will be executed: "
   ]
  },
  {
   "cell_type": "code",
   "execution_count": null,
   "metadata": {},
   "outputs": [],
   "source": [
    "net = Hwmon.NET()"
   ]
  },
  {
   "cell_type": "markdown",
   "metadata": {},
   "source": [
    "Being the functions that interest us in this case: data() and print_data() . Let's see an example of each function: \n",
    "### Print information\n",
    "This function will print in a tabular and nice way all the information of the system network. "
   ]
  },
  {
   "cell_type": "code",
   "execution_count": null,
   "metadata": {},
   "outputs": [],
   "source": [
    "net.print_data()"
   ]
  },
  {
   "cell_type": "markdown",
   "metadata": {},
   "source": [
    "### Get data\n",
    "In case we are interested in getting the information from the network instead of printing it on the screen, we will execute the following sentence: "
   ]
  },
  {
   "cell_type": "code",
   "execution_count": null,
   "metadata": {},
   "outputs": [],
   "source": [
    "net.data()"
   ]
  },
  {
   "cell_type": "markdown",
   "metadata": {},
   "source": [
    "# USB devices information\n",
    "To access the USB subclass, the following sentence will be executed: "
   ]
  },
  {
   "cell_type": "code",
   "execution_count": null,
   "metadata": {},
   "outputs": [],
   "source": [
    "usb = Hwmon.USB()"
   ]
  },
  {
   "cell_type": "markdown",
   "metadata": {},
   "source": [
    "Being the functions that interest us in this case: data() and print_data() . Let's see an example of each function: \n",
    "### Print information\n",
    "This function will print in a tabular and nice way all the information of the USBs in the system. "
   ]
  },
  {
   "cell_type": "code",
   "execution_count": null,
   "metadata": {},
   "outputs": [],
   "source": [
    "usb.print_data()"
   ]
  },
  {
   "cell_type": "markdown",
   "metadata": {},
   "source": [
    "### Get data\n",
    "In case we are interested in getting the information from the sensors instead of printing it on the screen, we will execute the following sentence: "
   ]
  },
  {
   "cell_type": "code",
   "execution_count": null,
   "metadata": {},
   "outputs": [],
   "source": [
    "usb.data()"
   ]
  },
  {
   "cell_type": "markdown",
   "metadata": {},
   "source": [
    "# Disks information\n",
    "To access the subclass of the disks, the following sentence will be executed: "
   ]
  },
  {
   "cell_type": "code",
   "execution_count": null,
   "metadata": {},
   "outputs": [],
   "source": [
    "disk = Hwmon.DISK()"
   ]
  },
  {
   "cell_type": "markdown",
   "metadata": {},
   "source": [
    "Being the functions that interest us in this case: data() and print_data() . Let's see an example of each function: \n",
    "### Print information\n",
    "This function will print in a tabular and nice way all the information of the disks in the system. "
   ]
  },
  {
   "cell_type": "code",
   "execution_count": null,
   "metadata": {},
   "outputs": [],
   "source": [
    "disk.print_data()"
   ]
  },
  {
   "cell_type": "markdown",
   "metadata": {},
   "source": [
    "### Get data\n",
    "In case we are interested in getting the information from the sensors instead of printing it on the screen, we will execute the following sentence: "
   ]
  },
  {
   "cell_type": "code",
   "execution_count": null,
   "metadata": {},
   "outputs": [],
   "source": []
  }
 ],
 "metadata": {
  "kernelspec": {
   "display_name": "Python 3",
   "language": "python",
   "name": "python3"
  },
  "language_info": {
   "codemirror_mode": {
    "name": "ipython",
    "version": 3
   },
   "file_extension": ".py",
   "mimetype": "text/x-python",
   "name": "python",
   "nbconvert_exporter": "python",
   "pygments_lexer": "ipython3",
   "version": "3.6.9"
  }
 },
 "nbformat": 4,
 "nbformat_minor": 4
}
